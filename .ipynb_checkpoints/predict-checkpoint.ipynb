{
 "cells": [
  {
   "cell_type": "code",
   "execution_count": 8,
   "id": "77e00050-de97-4141-b8f9-efcc3cfaa2c9",
   "metadata": {},
   "outputs": [
    {
     "name": "stdout",
     "output_type": "stream",
     "text": [
      "The JavaScript file is classified as malicious.\n"
     ]
    }
   ],
   "source": [
    "import pickle\n",
    "from sklearn.feature_extraction.text import TfidfVectorizer\n",
    "\n",
    "# Load the trained model\n",
    "model_file = \"./model.pkl\"\n",
    "with open(model_file, \"rb\") as file:\n",
    "    model = pickle.load(file)\n",
    "\n",
    "# Load or recreate the vectorizer\n",
    "vectorizer_file = \"./vectorizer.pkl\"\n",
    "with open(vectorizer_file, \"rb\") as file:\n",
    "    vectorizer = pickle.load(file)\n",
    "\n",
    "# Read a new JavaScript file\n",
    "new_file = \"./zware6.js\"\n",
    "with open(new_file, \"r\", encoding=\"latin1\") as file:\n",
    "    code = file.read()\n",
    "\n",
    "# Convert the JavaScript code to a TF-IDF vector\n",
    "new_vector = vectorizer.transform([code])\n",
    "\n",
    "# Make a prediction\n",
    "prediction = model.predict(new_vector)\n",
    "if prediction[0] == 1:\n",
    "    print(\"The JavaScript file is classified as malicious.\")\n",
    "else:\n",
    "    print(\"The JavaScript file is classified as benign.\")\n"
   ]
  },
  {
   "cell_type": "code",
   "execution_count": null,
   "id": "d922cd7f-9343-4d98-8e8f-53edbcf14e27",
   "metadata": {},
   "outputs": [],
   "source": []
  },
  {
   "cell_type": "code",
   "execution_count": null,
   "id": "157aaeff",
   "metadata": {},
   "outputs": [],
   "source": []
  }
 ],
 "metadata": {
  "kernelspec": {
   "display_name": "Python 3 (ipykernel)",
   "language": "python",
   "name": "python3"
  },
  "language_info": {
   "codemirror_mode": {
    "name": "ipython",
    "version": 3
   },
   "file_extension": ".py",
   "mimetype": "text/x-python",
   "name": "python",
   "nbconvert_exporter": "python",
   "pygments_lexer": "ipython3",
   "version": "3.10.6"
  }
 },
 "nbformat": 4,
 "nbformat_minor": 5
}
